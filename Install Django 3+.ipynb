{
 "cells": [
  {
   "cell_type": "code",
   "execution_count": null,
   "metadata": {},
   "outputs": [],
   "source": [
    "## install virtual environment\n",
    "\n",
    "pip install pipenv pip --upgrade\n",
    "\n",
    "## has detail about the Virtual Enironment\n",
    "pip pipfile\n",
    "\n",
    "## Check Version\n",
    "\n",
    "python -V\n",
    "\n",
    "python3 -V\n",
    "\n",
    "\n",
    "## install DJango\n",
    "\n",
    "pipenv install django\n",
    "\n",
    "pipenv shell\n",
    "\n",
    "\n",
    "## Open a directory using command prompt\n",
    "# Syntax: Open \"/path_name/\"\n",
    "\n",
    "open \"/user/.../.../.../\"\n",
    "\n",
    "## Delete a directory in command prompt\n",
    "# Syntax: rm -f \"/path_name/\"\n",
    "\n",
    "rm -rf \"/user/.../.../.../\"\n",
    "\n",
    "## Staring a Django Project\n",
    "\n",
    "django --admin startproject \"Project_Name\"\n",
    "\n",
    "python manage.py runserver\n",
    "\n",
    "pipenv run python manage.py runserver\n",
    "\n",
    "## Quit the server\n",
    "Ctrl + C"
   ]
  }
 ],
 "metadata": {
  "kernelspec": {
   "display_name": "Python 3",
   "language": "python",
   "name": "python3"
  },
  "language_info": {
   "codemirror_mode": {
    "name": "ipython",
    "version": 3
   },
   "file_extension": ".py",
   "mimetype": "text/x-python",
   "name": "python",
   "nbconvert_exporter": "python",
   "pygments_lexer": "ipython3",
   "version": "3.9.0"
  }
 },
 "nbformat": 4,
 "nbformat_minor": 4
}
